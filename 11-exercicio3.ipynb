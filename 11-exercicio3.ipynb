{
  "nbformat": 4,
  "nbformat_minor": 0,
  "metadata": {
    "kernelspec": {
      "display_name": "Python 3",
      "language": "python",
      "name": "python3"
    },
    "language_info": {
      "codemirror_mode": {
        "name": "ipython",
        "version": 3
      },
      "file_extension": ".py",
      "mimetype": "text/x-python",
      "name": "python",
      "nbconvert_exporter": "python",
      "pygments_lexer": "ipython3",
      "version": "3.8.3"
    },
    "colab": {
      "name": "11-exercicio3.ipynb",
      "provenance": []
    }
  },
  "cells": [
    {
      "cell_type": "code",
      "metadata": {
        "id": "4IbWHesoPILp",
        "outputId": "b6094fcb-97fe-422d-99a8-da723a8b61a8",
        "colab": {
          "base_uri": "https://localhost:8080/",
          "height": 156
        }
      },
      "source": [
        "## Não se preocupem com essa célula. Ela é só pra essa aula funcionar no Google Colab\n",
        "## Se estiver rodando isso no Colab, Descomente e rode o código abaixo:\n",
        "\n",
        "!git clone https://github.com/gavieira/curso_programacao\n",
        "\n",
        "import os\n",
        "os.chdir('/content/curso_programacao')\n",
        "!git pull"
      ],
      "execution_count": 26,
      "outputs": [
        {
          "output_type": "stream",
          "text": [
            "Cloning into 'curso_programacao'...\n",
            "remote: Enumerating objects: 5, done.\u001b[K\n",
            "remote: Counting objects: 100% (5/5), done.\u001b[K\n",
            "remote: Compressing objects: 100% (5/5), done.\u001b[K\n",
            "remote: Total 157 (delta 0), reused 2 (delta 0), pack-reused 152\u001b[K\n",
            "Receiving objects: 100% (157/157), 661.11 KiB | 924.00 KiB/s, done.\n",
            "Resolving deltas: 100% (88/88), done.\n",
            "Already up to date.\n"
          ],
          "name": "stdout"
        }
      ]
    },
    {
      "cell_type": "markdown",
      "metadata": {
        "id": "PuxPRiOjPILz"
      },
      "source": [
        "# Exercícios"
      ]
    },
    {
      "cell_type": "markdown",
      "metadata": {
        "id": "QhoblR-1PIL5"
      },
      "source": [
        "## 1\n",
        "Escreva uma função que retorne o comprimento de uma string:"
      ]
    },
    {
      "cell_type": "code",
      "metadata": {
        "id": "4nVMWTdCPIL6",
        "outputId": "1a53fce1-4a86-456b-fb98-39109fc440e4",
        "colab": {
          "base_uri": "https://localhost:8080/",
          "height": 35
        }
      },
      "source": [
        "def contagem(frase):\n",
        "   print(len(frase))\n",
        "contagem(\"primeiro teste\")\n"
      ],
      "execution_count": null,
      "outputs": [
        {
          "output_type": "stream",
          "text": [
            "14\n"
          ],
          "name": "stdout"
        }
      ]
    },
    {
      "cell_type": "markdown",
      "metadata": {
        "id": "-qCOEK8HPIMD"
      },
      "source": [
        "## 2\n",
        "Crie uma função que:\n",
        "- Receba uma string como argumento\n",
        "- Retorne uma string que consista na junção das 2 primeiras e 2 últimas letras\n",
        "- Retorne uma string vazia se o argumento tiver menos do que duas letras"
      ]
    },
    {
      "cell_type": "code",
      "metadata": {
        "id": "p7trR4xyPIME",
        "outputId": "997e5540-c826-4d18-bf4d-03d09d652ebd",
        "colab": {
          "base_uri": "https://localhost:8080/",
          "height": 35
        }
      },
      "source": [
        "def soma_de_str(frase_2):\n",
        "  str_mínima = \"ab\"\n",
        "  if len(frase_2) < len(str_mínima):\n",
        "    return \"\"\n",
        "  else:\n",
        "    print(frase_2[0] + frase_2[1] + frase_2[-2] + frase_2[-1])\n",
        "soma_de_str(\"abcdefgh\")\n",
        "    "
      ],
      "execution_count": null,
      "outputs": [
        {
          "output_type": "stream",
          "text": [
            "abgh\n"
          ],
          "name": "stdout"
        }
      ]
    },
    {
      "cell_type": "markdown",
      "metadata": {
        "id": "hlHVVlhhPIMU"
      },
      "source": [
        "## 3\n",
        "Escreva uma função que:\n",
        "- Receba uma string como argumento\n",
        "- Substitua todas as ocorrências do primeiro caracter por '\\$', exceto pelo próprio primeiro caracter.\n",
        "- Retorne essa string com as substituições.\n",
        "\n",
        "```\n",
        "Ex. de entrada: 'rearranjo'\n",
        "Ex. de saída: 'rea$$anjo'\n",
        "```"
      ]
    },
    {
      "cell_type": "code",
      "metadata": {
        "id": "e0hWMNHUPIMX",
        "outputId": "0c69df1f-5200-423a-db7b-3feeb5c79343",
        "colab": {
          "base_uri": "https://localhost:8080/",
          "height": 35
        }
      },
      "source": [
        "def subs_str(frase_3):\n",
        " primeira_letra = frase_3[0]\n",
        " for letra in frase_3:\n",
        "    if frase_3[0] == letra:\n",
        "       return frase_3.replace(letra, \"$\")\n",
        "       return frase_3.replace(frase_3[0], primeira_letra)\n",
        "    \n",
        "      \n",
        "subs_str(\"papagaio\")\n"
      ],
      "execution_count": 60,
      "outputs": [
        {
          "output_type": "execute_result",
          "data": {
            "application/vnd.google.colaboratory.intrinsic+json": {
              "type": "string"
            },
            "text/plain": [
              "'$a$agaio'"
            ]
          },
          "metadata": {
            "tags": []
          },
          "execution_count": 60
        }
      ]
    },
    {
      "cell_type": "markdown",
      "metadata": {
        "id": "Eka1tW-5PIMe"
      },
      "source": [
        "## 4\n",
        "Escreva uma função que:\n",
        "- Retorne uma string que seja a fusão de duas outras strings, separadas pro espaço e com as primeiras letras trocadas entre si\n",
        "\n",
        "Exemplo:\n",
        "```\n",
        "Entrada: 'abc','xyz'\n",
        "Saída: 'xbc ayz'\n",
        "```"
      ]
    },
    {
      "cell_type": "code",
      "metadata": {
        "id": "MjOPJGOzPIMf",
        "outputId": "b73e8434-b222-4744-d833-287405a3ead8",
        "colab": {
          "base_uri": "https://localhost:8080/",
          "height": 201
        }
      },
      "source": [
        ""
      ],
      "execution_count": 38,
      "outputs": [
        {
          "output_type": "error",
          "ename": "TypeError",
          "evalue": "ignored",
          "traceback": [
            "\u001b[0;31m---------------------------------------------------------------------------\u001b[0m",
            "\u001b[0;31mTypeError\u001b[0m                                 Traceback (most recent call last)",
            "\u001b[0;32m<ipython-input-38-7dd2aa3df65f>\u001b[0m in \u001b[0;36m<module>\u001b[0;34m()\u001b[0m\n\u001b[1;32m      1\u001b[0m \u001b[0mvogais\u001b[0m \u001b[0;34m=\u001b[0m \u001b[0;34m[\u001b[0m\u001b[0;34m\"a\"\u001b[0m\u001b[0;34m,\u001b[0m \u001b[0;34m\"b\"\u001b[0m\u001b[0;34m,\u001b[0m \u001b[0;34m\"c\"\u001b[0m\u001b[0;34m,\u001b[0m \u001b[0;34m\"d\"\u001b[0m\u001b[0;34m]\u001b[0m\u001b[0;34m\u001b[0m\u001b[0;34m\u001b[0m\u001b[0m\n\u001b[0;32m----> 2\u001b[0;31m \u001b[0;32mfor\u001b[0m \u001b[0mletras\u001b[0m\u001b[0;34m[\u001b[0m\u001b[0;36m1\u001b[0m\u001b[0;34m]\u001b[0m \u001b[0;32min\u001b[0m \u001b[0mvogais\u001b[0m\u001b[0;34m:\u001b[0m\u001b[0;34m\u001b[0m\u001b[0;34m\u001b[0m\u001b[0m\n\u001b[0m\u001b[1;32m      3\u001b[0m   \u001b[0mprint\u001b[0m\u001b[0;34m(\u001b[0m\u001b[0mletras\u001b[0m\u001b[0;34m)\u001b[0m\u001b[0;34m\u001b[0m\u001b[0;34m\u001b[0m\u001b[0m\n",
            "\u001b[0;31mTypeError\u001b[0m: 'str' object does not support item assignment"
          ]
        }
      ]
    },
    {
      "cell_type": "markdown",
      "metadata": {
        "id": "msVclwyvPIMr"
      },
      "source": [
        "## 5\n",
        "Escreva uma função que:\n",
        "- Substitua a última letra de uma palavra por 'asso' \n",
        "- Se a palavra já terminar com 'asso', substituir 'asso' por 'issimo'\n",
        "- Se a palavra já terminar com 'íssimo', substituir 'íssimo' por 'érrimo'\n",
        "- Se a palavra tiver 3 caracteres ou mesmo, não alterar a palavra.\n",
        "- Por último, retorne a string gerada\n",
        "\n",
        "Exemplo:\n",
        "\n",
        "```\n",
        "Entrada 1: \"cansado\"\n",
        "Saída 1: \"cansadasso\"\n",
        "\n",
        "Entrada 1: \"cansadasso\"\n",
        "Saída 1: \"cansadíssimo\"\n",
        "\n",
        "Entrada 1: \"cansadíssimo\"\n",
        "Saída 1: \"cansadérrimo\"\n",
        "\n",
        "Entrada 1: \"olá\"\n",
        "Saída 1: \"olá\"\n"
      ]
    },
    {
      "cell_type": "code",
      "metadata": {
        "id": "unp3-n6mPIMt"
      },
      "source": [
        ""
      ],
      "execution_count": null,
      "outputs": []
    },
    {
      "cell_type": "markdown",
      "metadata": {
        "id": "78SYkDexPIM1"
      },
      "source": [
        "## 6\n",
        "Escreva uma função que receba uma string e retorne a mesma string com o primeiro e último caracteres trocados:"
      ]
    },
    {
      "cell_type": "code",
      "metadata": {
        "id": "HyJtLCfVPIM2"
      },
      "source": [
        ""
      ],
      "execution_count": null,
      "outputs": []
    },
    {
      "cell_type": "markdown",
      "metadata": {
        "id": "FVK-ZH4DPINK"
      },
      "source": [
        "## 7\n",
        "Esreva uma função que remova os caracteres com índice ímpar de uma string:"
      ]
    },
    {
      "cell_type": "code",
      "metadata": {
        "id": "fzkCpz2mPINM"
      },
      "source": [
        ""
      ],
      "execution_count": null,
      "outputs": []
    },
    {
      "cell_type": "markdown",
      "metadata": {
        "id": "CfLPjYXEPINT"
      },
      "source": [
        "## 8\n",
        "Escreva duas funções:\n",
        "- uma que retorne uma string totalmente convertida em maiúsculas\n",
        "- outra que retorne uma string totalmente convertida em minúsculas"
      ]
    },
    {
      "cell_type": "code",
      "metadata": {
        "id": "hUq_2EcVPINV"
      },
      "source": [
        ""
      ],
      "execution_count": null,
      "outputs": []
    },
    {
      "cell_type": "markdown",
      "metadata": {
        "id": "9oXw8quIPINf"
      },
      "source": [
        "## 9\n",
        "Escreva uma função que remova os espaços de uma string:"
      ]
    },
    {
      "cell_type": "code",
      "metadata": {
        "id": "Tux7XDs9PINh"
      },
      "source": [
        ""
      ],
      "execution_count": null,
      "outputs": []
    },
    {
      "cell_type": "markdown",
      "metadata": {
        "id": "cBh9DGHQPINx"
      },
      "source": [
        "**OBS**: Para os próximos exercícios, use os arquivos de texto presentes na pasta \"arquivos\". Pessoalmente, eu recomendo o uso do arquivo em 'arquivos/arquivo_texto.txt', a menos que a questão especifique um arquivo diferente."
      ]
    },
    {
      "cell_type": "markdown",
      "metadata": {
        "id": "jjvMFMkCPINz"
      },
      "source": [
        "## 10\n",
        "Escreva um script que receba uma string com o caminho para um arquivo de texto e retorne todo o seu conteúdo:"
      ]
    },
    {
      "cell_type": "code",
      "metadata": {
        "id": "pZZ6-4NjPIN1"
      },
      "source": [
        ""
      ],
      "execution_count": null,
      "outputs": []
    },
    {
      "cell_type": "markdown",
      "metadata": {
        "id": "zNMNz-ktPIOB"
      },
      "source": [
        "## 11\n",
        "Escreva um script que receba leia um arquivo de texto e criei outro arquivo (chamado 'linhas_numeradas.txt') com o número da linha antes do texto original, separados por tabulação:\n",
        "\n",
        "Exemplo de arquivo original:\n",
        "```\n",
        "Oi!\n",
        "Esse é um arquivo de texto.\n",
        "Está aqui só pra preencher espaço\n",
        "```\n",
        "\n",
        "Exemplo de novo arquivo:\n",
        "```\n",
        "1    Oi!\n",
        "2    Esse é um arquivo de texto.\n",
        "3    Está aqui só pra preencher espaço\n",
        "```"
      ]
    },
    {
      "cell_type": "code",
      "metadata": {
        "id": "cD2dwQbEPIOD"
      },
      "source": [
        ""
      ],
      "execution_count": null,
      "outputs": []
    },
    {
      "cell_type": "markdown",
      "metadata": {
        "id": "1JPdKdLwPIOI"
      },
      "source": [
        "## 12\n",
        "Escreva uma função que conte quantas sequências há em um arquivo multifasta (use o arquivo em 'arquivos/multifasta.fasta'):"
      ]
    },
    {
      "cell_type": "code",
      "metadata": {
        "id": "8XWTQN-YPIOJ"
      },
      "source": [
        ""
      ],
      "execution_count": null,
      "outputs": []
    },
    {
      "cell_type": "markdown",
      "metadata": {
        "id": "ODgwnoZuPIOR"
      },
      "source": [
        "## 13\n",
        "Escreva uma função que conte quantos nucleotídeos há em um arquivo fasta com uma única sequência (use o arquivo em 'arquivos/seq1.fasta'):"
      ]
    },
    {
      "cell_type": "code",
      "metadata": {
        "id": "1HD1oItqPIOS"
      },
      "source": [
        ""
      ],
      "execution_count": null,
      "outputs": []
    }
  ]
}