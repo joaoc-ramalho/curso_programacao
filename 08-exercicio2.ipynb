{
  "nbformat": 4,
  "nbformat_minor": 0,
  "metadata": {
    "kernelspec": {
      "display_name": "Python 3",
      "language": "python",
      "name": "python3"
    },
    "language_info": {
      "codemirror_mode": {
        "name": "ipython",
        "version": 3
      },
      "file_extension": ".py",
      "mimetype": "text/x-python",
      "name": "python",
      "nbconvert_exporter": "python",
      "pygments_lexer": "ipython3",
      "version": "3.8.3"
    },
    "colab": {
      "name": "08-exercicio2.ipynb",
      "provenance": []
    }
  },
  "cells": [
    {
      "cell_type": "markdown",
      "metadata": {
        "id": "bbLFzLGdY4-p"
      },
      "source": [
        "# Exercícios"
      ]
    },
    {
      "cell_type": "markdown",
      "metadata": {
        "id": "Be8zDYP7Y4-s"
      },
      "source": [
        "## 1\n",
        "Crie uma função que receba uma lista como argumento e some todos os seus itens."
      ]
    },
    {
      "cell_type": "code",
      "metadata": {
        "id": "3ytHAzHeY4-u",
        "outputId": "767856aa-ff39-47a9-e194-f488610fed14",
        "colab": {
          "base_uri": "https://localhost:8080/"
        }
      },
      "source": [
        "sum([1, 2, 3, 4, 5])\n"
      ],
      "execution_count": 131,
      "outputs": [
        {
          "output_type": "execute_result",
          "data": {
            "text/plain": [
              "15"
            ]
          },
          "metadata": {
            "tags": []
          },
          "execution_count": 131
        }
      ]
    },
    {
      "cell_type": "markdown",
      "metadata": {
        "id": "3Z11dgLMY4-7"
      },
      "source": [
        "## 2\n",
        "Crie uma função que: \n",
        "- receba uma lista e um número como argumentos, e \n",
        "- retorne uma nova lista com cada elemento da lista original multiplicado pelo número"
      ]
    },
    {
      "cell_type": "code",
      "metadata": {
        "id": "9WFcigqSY4--",
        "outputId": "e5c3cf9d-59b3-4213-c866-4984ca75a79f",
        "colab": {
          "base_uri": "https://localhost:8080/"
        }
      },
      "source": [
        "lista = [\"carro, moto, bicicleta\"]\n",
        "def multiplicação(num):\n",
        "      print([meio_de_transp*num])\n",
        "multiplicação(2)"
      ],
      "execution_count": 63,
      "outputs": [
        {
          "output_type": "stream",
          "text": [
            "['carro, moto, bicicleta carro, moto, bicicleta ']\n"
          ],
          "name": "stdout"
        }
      ]
    },
    {
      "cell_type": "markdown",
      "metadata": {
        "id": "_JjTr_P0Y4_M"
      },
      "source": [
        "## 3\n",
        "Crie uma função que retorne o maior número presente em uma lista"
      ]
    },
    {
      "cell_type": "code",
      "metadata": {
        "id": "WJtdRSZEY4_P",
        "outputId": "b5f362fb-c041-4b6d-99fe-8713909e641e",
        "colab": {
          "base_uri": "https://localhost:8080/"
        }
      },
      "source": [
        "números = [1, 2, 5, 2, 7, 4, 4, 15, 8]\n",
        "números.sort()\n",
        "print(números[-1])"
      ],
      "execution_count": 121,
      "outputs": [
        {
          "output_type": "stream",
          "text": [
            "15\n"
          ],
          "name": "stdout"
        }
      ]
    },
    {
      "cell_type": "markdown",
      "metadata": {
        "id": "7RYffBOaY4_l"
      },
      "source": [
        "## 4\n",
        "Crie uma função que remova valores duplicados de uma lista"
      ]
    },
    {
      "cell_type": "code",
      "metadata": {
        "id": "tTFNfDBRY4_q",
        "outputId": "d187f8aa-ac07-430b-ef9d-e2afdb77def4",
        "colab": {
          "base_uri": "https://localhost:8080/"
        }
      },
      "source": [
        "for num1 in números:\n",
        "    print([num1]==[num1<10])\n",
        "\n",
        "       \n",
        "\n"
      ],
      "execution_count": 139,
      "outputs": [
        {
          "output_type": "stream",
          "text": [
            "True\n",
            "False\n",
            "False\n",
            "False\n",
            "False\n",
            "False\n",
            "False\n",
            "False\n",
            "False\n"
          ],
          "name": "stdout"
        }
      ]
    },
    {
      "cell_type": "markdown",
      "metadata": {
        "id": "cNAywct_Y4_-"
      },
      "source": [
        "## 5\n",
        "Crie uma função que cheque se uma lista é vazia ou não, a qual deve:\n",
        "- Retornar verdadeiro (True) se a lista tiver algum elemento\n",
        "- Retornar falso (False) se a lista for vazia"
      ]
    },
    {
      "cell_type": "code",
      "metadata": {
        "id": "N6o-30A6Y5AA",
        "outputId": "d3c3e2d1-1f93-4890-d6f2-8881672fd919",
        "colab": {
          "base_uri": "https://localhost:8080/"
        }
      },
      "source": [
        "def verificação(lista):\n",
        "   print(lista!=[])\n",
        "verificação(números)"
      ],
      "execution_count": 61,
      "outputs": [
        {
          "output_type": "stream",
          "text": [
            "True\n"
          ],
          "name": "stdout"
        }
      ]
    },
    {
      "cell_type": "markdown",
      "metadata": {
        "id": "wO68mZ-VY5AP"
      },
      "source": [
        "## 6\n",
        "Escreva uma função que receba duas listas e:\n",
        "- Retorne verdadeiro se as listas tiverem algum elemento em comum\n",
        "- Retorne falso caso contrário"
      ]
    },
    {
      "cell_type": "code",
      "metadata": {
        "id": "UROqRnnbY5AS",
        "outputId": "aeaeb77b-cb79-4120-f50e-74cddfdf4c0f",
        "colab": {
          "base_uri": "https://localhost:8080/"
        }
      },
      "source": [
        "números2 = [1, 2, 3, 4, 5, 6]\n",
        "for num1 in números:\n",
        " for num2 in números2:\n",
        "      if [num1]==[num2]:\n",
        "        print(True)\n",
        "      if [num1]!=[num2]:\n",
        "        print(False)\n",
        "#não consegui dazer sem ser comparando os elementos 1 por 1"
      ],
      "execution_count": 142,
      "outputs": [
        {
          "output_type": "stream",
          "text": [
            "True\n",
            "False\n",
            "False\n",
            "False\n",
            "False\n",
            "False\n",
            "False\n",
            "True\n",
            "False\n",
            "False\n",
            "False\n",
            "False\n",
            "False\n",
            "True\n",
            "False\n",
            "False\n",
            "False\n",
            "False\n",
            "False\n",
            "False\n",
            "False\n",
            "True\n",
            "False\n",
            "False\n",
            "False\n",
            "False\n",
            "False\n",
            "True\n",
            "False\n",
            "False\n",
            "False\n",
            "False\n",
            "False\n",
            "False\n",
            "True\n",
            "False\n",
            "False\n",
            "False\n",
            "False\n",
            "False\n",
            "False\n",
            "False\n",
            "False\n",
            "False\n",
            "False\n",
            "False\n",
            "False\n",
            "False\n",
            "False\n",
            "False\n",
            "False\n",
            "False\n",
            "False\n",
            "False\n"
          ],
          "name": "stdout"
        }
      ]
    },
    {
      "cell_type": "code",
      "metadata": {
        "id": "adbVVdRiCyRb",
        "outputId": "7bb02dcd-7e03-442d-a5f5-1d696c109900",
        "colab": {
          "base_uri": "https://localhost:8080/"
        }
      },
      "source": [
        "\n"
      ],
      "execution_count": null,
      "outputs": [
        {
          "output_type": "stream",
          "text": [
            "[4, 8]\n"
          ],
          "name": "stdout"
        }
      ]
    },
    {
      "cell_type": "markdown",
      "metadata": {
        "id": "PuLBHaxfY5Ag"
      },
      "source": [
        "## 7\n",
        "Escreva uma função que retorne uma lista de números que:\n",
        "- Sejam divisíveis por 7 **E** múltiplos de 5\n",
        "- Estejam entre 1500 e 2700"
      ]
    },
    {
      "cell_type": "code",
      "metadata": {
        "id": "0V9CEey8Y5Ai",
        "outputId": "cc8e8e9a-f3f7-403f-86d8-2a252c9d7cd5",
        "colab": {
          "base_uri": "https://localhost:8080/"
        }
      },
      "source": [
        " list(range(1505, 2701, 35))\n"
      ],
      "execution_count": 154,
      "outputs": [
        {
          "output_type": "execute_result",
          "data": {
            "text/plain": [
              "[1505,\n",
              " 1540,\n",
              " 1575,\n",
              " 1610,\n",
              " 1645,\n",
              " 1680,\n",
              " 1715,\n",
              " 1750,\n",
              " 1785,\n",
              " 1820,\n",
              " 1855,\n",
              " 1890,\n",
              " 1925,\n",
              " 1960,\n",
              " 1995,\n",
              " 2030,\n",
              " 2065,\n",
              " 2100,\n",
              " 2135,\n",
              " 2170,\n",
              " 2205,\n",
              " 2240,\n",
              " 2275,\n",
              " 2310,\n",
              " 2345,\n",
              " 2380,\n",
              " 2415,\n",
              " 2450,\n",
              " 2485,\n",
              " 2520,\n",
              " 2555,\n",
              " 2590,\n",
              " 2625,\n",
              " 2660,\n",
              " 2695]"
            ]
          },
          "metadata": {
            "tags": []
          },
          "execution_count": 154
        }
      ]
    },
    {
      "cell_type": "markdown",
      "metadata": {
        "id": "gdtAzuILY5Ao"
      },
      "source": [
        "## 8\n",
        "Escreva uma função que retorne uma lista de números que:\n",
        "- Sejam divisíveis por 7 **OU** múltiplos de 5\n",
        "- Estejam entre 1500 e 2700"
      ]
    },
    {
      "cell_type": "markdown",
      "metadata": {
        "id": "X07e0BsLY5Aq"
      },
      "source": [
        "## 9\n",
        "Escreva uma função que imprima na tela todos os números de 0 a 6, com exceção de 3 e 6.\n",
        "- Dica: Use a palavra-chave \"continue\""
      ]
    },
    {
      "cell_type": "code",
      "metadata": {
        "id": "kmW40A8dY5A0"
      },
      "source": [
        ""
      ],
      "execution_count": null,
      "outputs": []
    },
    {
      "cell_type": "markdown",
      "metadata": {
        "id": "OEvQxTyLY5A7"
      },
      "source": [
        "## 10\n",
        "Escreva uma função que cheque se uma letra é uma vogal ou uma consoante, retornando:\n",
        "- Verdadeiro se for vogal\n",
        "- Falso se for consoante"
      ]
    },
    {
      "cell_type": "code",
      "metadata": {
        "id": "MxnGCXZaY5A8"
      },
      "source": [
        ""
      ],
      "execution_count": null,
      "outputs": []
    },
    {
      "cell_type": "markdown",
      "metadata": {
        "id": "gOcRWYhdY5BC"
      },
      "source": [
        "## 11\n",
        "Escreva uma função que imprima o seguinte padrão na tela:\n",
        "\n",
        "```\n",
        "1\n",
        "22\n",
        "333\n",
        "4444\n",
        "55555\n",
        "666666\n",
        "7777777\n",
        "88888888\n",
        "999999999\n",
        "```"
      ]
    },
    {
      "cell_type": "code",
      "metadata": {
        "id": "fHKflyhxY5BF"
      },
      "source": [
        ""
      ],
      "execution_count": null,
      "outputs": []
    },
    {
      "cell_type": "markdown",
      "metadata": {
        "id": "sw-zySVmY5BR"
      },
      "source": [
        "## 12\n",
        "Para uma equação de segundo grau $ax^2 + bx + c$, o número de raízes reais é definido pelo valor de delta <nobr>($ \\Delta = b^2 -4ac $).</nobr>\n",
        "\n",
        "- Se $ \\Delta > 0 $ : Duas raízes\n",
        "- Se $ \\Delta = 0 $ : Uma raíz\n",
        "- Se $ \\Delta < 0 $ : Nenhuma raíz\n",
        "\n",
        "Assim sendo, escreva uma função que receba os coeficientes da equação de 2º grau (a, b e c) e, com base nesses coeficientes, te diga automaticamente quantas raízes essa equação possui."
      ]
    },
    {
      "cell_type": "code",
      "metadata": {
        "id": "91BXtFZaY5BS"
      },
      "source": [
        ""
      ],
      "execution_count": null,
      "outputs": []
    },
    {
      "cell_type": "markdown",
      "metadata": {
        "id": "jGUKHGloY5BY"
      },
      "source": [
        "## 13 \n",
        "\n",
        "Crie uma função que receba os coeficientes de uma equação de 2º grau (a, b e c) e retorne o valor de sua(s) raíz(es) ou imprima a mensagem \"Sem raíz real\" caso não possua raíz.\n",
        "\n",
        "Lembre-se que a resolução das raízes é feita usando a **Fórmula de Bhaskara**:\n",
        "\n",
        "<p style=\"font-size:16pt; text-align:center\"> $ x = \\frac{-b \\pm\\sqrt{b^2 - 4ac}}{2a} $</p>"
      ]
    },
    {
      "cell_type": "code",
      "metadata": {
        "id": "kBYs-Wn8Y5Ba"
      },
      "source": [
        ""
      ],
      "execution_count": null,
      "outputs": []
    }
  ]
}