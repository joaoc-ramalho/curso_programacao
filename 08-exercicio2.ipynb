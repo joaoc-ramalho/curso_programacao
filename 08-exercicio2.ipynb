{
  "nbformat": 4,
  "nbformat_minor": 0,
  "metadata": {
    "kernelspec": {
      "display_name": "Python 3",
      "language": "python",
      "name": "python3"
    },
    "language_info": {
      "codemirror_mode": {
        "name": "ipython",
        "version": 3
      },
      "file_extension": ".py",
      "mimetype": "text/x-python",
      "name": "python",
      "nbconvert_exporter": "python",
      "pygments_lexer": "ipython3",
      "version": "3.8.3"
    },
    "colab": {
      "name": "08-exercicio2.ipynb",
      "provenance": []
    }
  },
  "cells": [
    {
      "cell_type": "markdown",
      "metadata": {
        "id": "bbLFzLGdY4-p"
      },
      "source": [
        "# Exercícios"
      ]
    },
    {
      "cell_type": "markdown",
      "metadata": {
        "id": "Be8zDYP7Y4-s"
      },
      "source": [
        "## 1\n",
        "Crie uma função que receba uma lista como argumento e some todos os seus itens."
      ]
    },
    {
      "cell_type": "code",
      "metadata": {
        "id": "3ytHAzHeY4-u",
        "outputId": "767856aa-ff39-47a9-e194-f488610fed14",
        "colab": {
          "base_uri": "https://localhost:8080/"
        }
      },
      "source": [
        "sum([1, 2, 3, 4, 5])\n"
      ],
      "execution_count": null,
      "outputs": [
        {
          "output_type": "execute_result",
          "data": {
            "text/plain": [
              "15"
            ]
          },
          "metadata": {
            "tags": []
          },
          "execution_count": 131
        }
      ]
    },
    {
      "cell_type": "markdown",
      "metadata": {
        "id": "3Z11dgLMY4-7"
      },
      "source": [
        "## 2\n",
        "Crie uma função que: \n",
        "- receba uma lista e um número como argumentos, e \n",
        "- retorne uma nova lista com cada elemento da lista original multiplicado pelo número"
      ]
    },
    {
      "cell_type": "code",
      "metadata": {
        "id": "9WFcigqSY4--",
        "outputId": "e5c3cf9d-59b3-4213-c866-4984ca75a79f",
        "colab": {
          "base_uri": "https://localhost:8080/"
        }
      },
      "source": [
        "lista = [\"carro, moto, bicicleta\"]\n",
        "def multiplicação(num):\n",
        "      print([meio_de_transp*num])\n",
        "multiplicação(2)"
      ],
      "execution_count": null,
      "outputs": [
        {
          "output_type": "stream",
          "text": [
            "['carro, moto, bicicleta carro, moto, bicicleta ']\n"
          ],
          "name": "stdout"
        }
      ]
    },
    {
      "cell_type": "markdown",
      "metadata": {
        "id": "_JjTr_P0Y4_M"
      },
      "source": [
        "## 3\n",
        "Crie uma função que retorne o maior número presente em uma lista"
      ]
    },
    {
      "cell_type": "code",
      "metadata": {
        "id": "WJtdRSZEY4_P",
        "outputId": "b5f362fb-c041-4b6d-99fe-8713909e641e",
        "colab": {
          "base_uri": "https://localhost:8080/"
        }
      },
      "source": [
        "números = [1, 2, 5, 2, 7, 4, 4, 15, 8]\n",
        "números.sort()\n",
        "print(números[-1])"
      ],
      "execution_count": null,
      "outputs": [
        {
          "output_type": "stream",
          "text": [
            "15\n"
          ],
          "name": "stdout"
        }
      ]
    },
    {
      "cell_type": "markdown",
      "metadata": {
        "id": "7RYffBOaY4_l"
      },
      "source": [
        "## 4\n",
        "Crie uma função que remova valores duplicados de uma lista"
      ]
    },
    {
      "cell_type": "code",
      "metadata": {
        "id": "tTFNfDBRY4_q",
        "outputId": "d187f8aa-ac07-430b-ef9d-e2afdb77def4",
        "colab": {
          "base_uri": "https://localhost:8080/"
        }
      },
      "source": [
        "for num1 in números:\n",
        "    print([num1]==[num1<10])\n",
        "\n",
        "       \n",
        "\n"
      ],
      "execution_count": null,
      "outputs": [
        {
          "output_type": "stream",
          "text": [
            "True\n",
            "False\n",
            "False\n",
            "False\n",
            "False\n",
            "False\n",
            "False\n",
            "False\n",
            "False\n"
          ],
          "name": "stdout"
        }
      ]
    },
    {
      "cell_type": "markdown",
      "metadata": {
        "id": "cNAywct_Y4_-"
      },
      "source": [
        "## 5\n",
        "Crie uma função que cheque se uma lista é vazia ou não, a qual deve:\n",
        "- Retornar verdadeiro (True) se a lista tiver algum elemento\n",
        "- Retornar falso (False) se a lista for vazia"
      ]
    },
    {
      "cell_type": "code",
      "metadata": {
        "id": "N6o-30A6Y5AA",
        "outputId": "d3c3e2d1-1f93-4890-d6f2-8881672fd919",
        "colab": {
          "base_uri": "https://localhost:8080/"
        }
      },
      "source": [
        "def verificação(lista):\n",
        "   print(lista!=[])\n",
        "verificação(números)"
      ],
      "execution_count": null,
      "outputs": [
        {
          "output_type": "stream",
          "text": [
            "True\n"
          ],
          "name": "stdout"
        }
      ]
    },
    {
      "cell_type": "markdown",
      "metadata": {
        "id": "wO68mZ-VY5AP"
      },
      "source": [
        "## 6\n",
        "Escreva uma função que receba duas listas e:\n",
        "- Retorne verdadeiro se as listas tiverem algum elemento em comum\n",
        "- Retorne falso caso contrário"
      ]
    },
    {
      "cell_type": "code",
      "metadata": {
        "id": "UROqRnnbY5AS",
        "outputId": "aeaeb77b-cb79-4120-f50e-74cddfdf4c0f",
        "colab": {
          "base_uri": "https://localhost:8080/"
        }
      },
      "source": [
        "números2 = [1, 2, 3, 4, 5, 6]\n",
        "for num1 in números:\n",
        " for num2 in números2:\n",
        "      if [num1]==[num2]:\n",
        "        print(True)\n",
        "      if [num1]!=[num2]:\n",
        "        print(False)\n",
        "#não consegui dazer sem ser comparando os elementos 1 por 1"
      ],
      "execution_count": null,
      "outputs": [
        {
          "output_type": "stream",
          "text": [
            "True\n",
            "False\n",
            "False\n",
            "False\n",
            "False\n",
            "False\n",
            "False\n",
            "True\n",
            "False\n",
            "False\n",
            "False\n",
            "False\n",
            "False\n",
            "True\n",
            "False\n",
            "False\n",
            "False\n",
            "False\n",
            "False\n",
            "False\n",
            "False\n",
            "True\n",
            "False\n",
            "False\n",
            "False\n",
            "False\n",
            "False\n",
            "True\n",
            "False\n",
            "False\n",
            "False\n",
            "False\n",
            "False\n",
            "False\n",
            "True\n",
            "False\n",
            "False\n",
            "False\n",
            "False\n",
            "False\n",
            "False\n",
            "False\n",
            "False\n",
            "False\n",
            "False\n",
            "False\n",
            "False\n",
            "False\n",
            "False\n",
            "False\n",
            "False\n",
            "False\n",
            "False\n",
            "False\n"
          ],
          "name": "stdout"
        }
      ]
    },
    {
      "cell_type": "code",
      "metadata": {
        "id": "adbVVdRiCyRb",
        "outputId": "7bb02dcd-7e03-442d-a5f5-1d696c109900",
        "colab": {
          "base_uri": "https://localhost:8080/"
        }
      },
      "source": [
        "\n"
      ],
      "execution_count": null,
      "outputs": [
        {
          "output_type": "stream",
          "text": [
            "[4, 8]\n"
          ],
          "name": "stdout"
        }
      ]
    },
    {
      "cell_type": "markdown",
      "metadata": {
        "id": "PuLBHaxfY5Ag"
      },
      "source": [
        "## 7\n",
        "Escreva uma função que retorne uma lista de números que:\n",
        "- Sejam divisíveis por 7 **E** múltiplos de 5\n",
        "- Estejam entre 1500 e 2700"
      ]
    },
    {
      "cell_type": "code",
      "metadata": {
        "id": "0V9CEey8Y5Ai",
        "outputId": "cc8e8e9a-f3f7-403f-86d8-2a252c9d7cd5",
        "colab": {
          "base_uri": "https://localhost:8080/"
        }
      },
      "source": [
        " list(range(1505, 2701, 35))\n"
      ],
      "execution_count": null,
      "outputs": [
        {
          "output_type": "execute_result",
          "data": {
            "text/plain": [
              "[1505,\n",
              " 1540,\n",
              " 1575,\n",
              " 1610,\n",
              " 1645,\n",
              " 1680,\n",
              " 1715,\n",
              " 1750,\n",
              " 1785,\n",
              " 1820,\n",
              " 1855,\n",
              " 1890,\n",
              " 1925,\n",
              " 1960,\n",
              " 1995,\n",
              " 2030,\n",
              " 2065,\n",
              " 2100,\n",
              " 2135,\n",
              " 2170,\n",
              " 2205,\n",
              " 2240,\n",
              " 2275,\n",
              " 2310,\n",
              " 2345,\n",
              " 2380,\n",
              " 2415,\n",
              " 2450,\n",
              " 2485,\n",
              " 2520,\n",
              " 2555,\n",
              " 2590,\n",
              " 2625,\n",
              " 2660,\n",
              " 2695]"
            ]
          },
          "metadata": {
            "tags": []
          },
          "execution_count": 154
        }
      ]
    },
    {
      "cell_type": "markdown",
      "metadata": {
        "id": "gdtAzuILY5Ao"
      },
      "source": [
        "texto em itálico## 8\n",
        "Escreva uma função que retorne uma lista de números que:\n",
        "- Sejam divisíveis por 7 **OU** múltiplos de 5\n",
        "- Estejam entre 1500 e 2700"
      ]
    },
    {
      "cell_type": "code",
      "metadata": {
        "id": "fQSzKj3Dg-OB",
        "outputId": "58164746-43f7-4e1a-d274-d43c263eeeef",
        "colab": {
          "base_uri": "https://localhost:8080/"
        }
      },
      "source": [
        "list(range(1505, 2701, 7)) + list(range(1500, 2701, 5))"
      ],
      "execution_count": null,
      "outputs": [
        {
          "output_type": "execute_result",
          "data": {
            "text/plain": [
              "[1505,\n",
              " 1512,\n",
              " 1519,\n",
              " 1526,\n",
              " 1533,\n",
              " 1540,\n",
              " 1547,\n",
              " 1554,\n",
              " 1561,\n",
              " 1568,\n",
              " 1575,\n",
              " 1582,\n",
              " 1589,\n",
              " 1596,\n",
              " 1603,\n",
              " 1610,\n",
              " 1617,\n",
              " 1624,\n",
              " 1631,\n",
              " 1638,\n",
              " 1645,\n",
              " 1652,\n",
              " 1659,\n",
              " 1666,\n",
              " 1673,\n",
              " 1680,\n",
              " 1687,\n",
              " 1694,\n",
              " 1701,\n",
              " 1708,\n",
              " 1715,\n",
              " 1722,\n",
              " 1729,\n",
              " 1736,\n",
              " 1743,\n",
              " 1750,\n",
              " 1757,\n",
              " 1764,\n",
              " 1771,\n",
              " 1778,\n",
              " 1785,\n",
              " 1792,\n",
              " 1799,\n",
              " 1806,\n",
              " 1813,\n",
              " 1820,\n",
              " 1827,\n",
              " 1834,\n",
              " 1841,\n",
              " 1848,\n",
              " 1855,\n",
              " 1862,\n",
              " 1869,\n",
              " 1876,\n",
              " 1883,\n",
              " 1890,\n",
              " 1897,\n",
              " 1904,\n",
              " 1911,\n",
              " 1918,\n",
              " 1925,\n",
              " 1932,\n",
              " 1939,\n",
              " 1946,\n",
              " 1953,\n",
              " 1960,\n",
              " 1967,\n",
              " 1974,\n",
              " 1981,\n",
              " 1988,\n",
              " 1995,\n",
              " 2002,\n",
              " 2009,\n",
              " 2016,\n",
              " 2023,\n",
              " 2030,\n",
              " 2037,\n",
              " 2044,\n",
              " 2051,\n",
              " 2058,\n",
              " 2065,\n",
              " 2072,\n",
              " 2079,\n",
              " 2086,\n",
              " 2093,\n",
              " 2100,\n",
              " 2107,\n",
              " 2114,\n",
              " 2121,\n",
              " 2128,\n",
              " 2135,\n",
              " 2142,\n",
              " 2149,\n",
              " 2156,\n",
              " 2163,\n",
              " 2170,\n",
              " 2177,\n",
              " 2184,\n",
              " 2191,\n",
              " 2198,\n",
              " 2205,\n",
              " 2212,\n",
              " 2219,\n",
              " 2226,\n",
              " 2233,\n",
              " 2240,\n",
              " 2247,\n",
              " 2254,\n",
              " 2261,\n",
              " 2268,\n",
              " 2275,\n",
              " 2282,\n",
              " 2289,\n",
              " 2296,\n",
              " 2303,\n",
              " 2310,\n",
              " 2317,\n",
              " 2324,\n",
              " 2331,\n",
              " 2338,\n",
              " 2345,\n",
              " 2352,\n",
              " 2359,\n",
              " 2366,\n",
              " 2373,\n",
              " 2380,\n",
              " 2387,\n",
              " 2394,\n",
              " 2401,\n",
              " 2408,\n",
              " 2415,\n",
              " 2422,\n",
              " 2429,\n",
              " 2436,\n",
              " 2443,\n",
              " 2450,\n",
              " 2457,\n",
              " 2464,\n",
              " 2471,\n",
              " 2478,\n",
              " 2485,\n",
              " 2492,\n",
              " 2499,\n",
              " 2506,\n",
              " 2513,\n",
              " 2520,\n",
              " 2527,\n",
              " 2534,\n",
              " 2541,\n",
              " 2548,\n",
              " 2555,\n",
              " 2562,\n",
              " 2569,\n",
              " 2576,\n",
              " 2583,\n",
              " 2590,\n",
              " 2597,\n",
              " 2604,\n",
              " 2611,\n",
              " 2618,\n",
              " 2625,\n",
              " 2632,\n",
              " 2639,\n",
              " 2646,\n",
              " 2653,\n",
              " 2660,\n",
              " 2667,\n",
              " 2674,\n",
              " 2681,\n",
              " 2688,\n",
              " 2695,\n",
              " 1500,\n",
              " 1505,\n",
              " 1510,\n",
              " 1515,\n",
              " 1520,\n",
              " 1525,\n",
              " 1530,\n",
              " 1535,\n",
              " 1540,\n",
              " 1545,\n",
              " 1550,\n",
              " 1555,\n",
              " 1560,\n",
              " 1565,\n",
              " 1570,\n",
              " 1575,\n",
              " 1580,\n",
              " 1585,\n",
              " 1590,\n",
              " 1595,\n",
              " 1600,\n",
              " 1605,\n",
              " 1610,\n",
              " 1615,\n",
              " 1620,\n",
              " 1625,\n",
              " 1630,\n",
              " 1635,\n",
              " 1640,\n",
              " 1645,\n",
              " 1650,\n",
              " 1655,\n",
              " 1660,\n",
              " 1665,\n",
              " 1670,\n",
              " 1675,\n",
              " 1680,\n",
              " 1685,\n",
              " 1690,\n",
              " 1695,\n",
              " 1700,\n",
              " 1705,\n",
              " 1710,\n",
              " 1715,\n",
              " 1720,\n",
              " 1725,\n",
              " 1730,\n",
              " 1735,\n",
              " 1740,\n",
              " 1745,\n",
              " 1750,\n",
              " 1755,\n",
              " 1760,\n",
              " 1765,\n",
              " 1770,\n",
              " 1775,\n",
              " 1780,\n",
              " 1785,\n",
              " 1790,\n",
              " 1795,\n",
              " 1800,\n",
              " 1805,\n",
              " 1810,\n",
              " 1815,\n",
              " 1820,\n",
              " 1825,\n",
              " 1830,\n",
              " 1835,\n",
              " 1840,\n",
              " 1845,\n",
              " 1850,\n",
              " 1855,\n",
              " 1860,\n",
              " 1865,\n",
              " 1870,\n",
              " 1875,\n",
              " 1880,\n",
              " 1885,\n",
              " 1890,\n",
              " 1895,\n",
              " 1900,\n",
              " 1905,\n",
              " 1910,\n",
              " 1915,\n",
              " 1920,\n",
              " 1925,\n",
              " 1930,\n",
              " 1935,\n",
              " 1940,\n",
              " 1945,\n",
              " 1950,\n",
              " 1955,\n",
              " 1960,\n",
              " 1965,\n",
              " 1970,\n",
              " 1975,\n",
              " 1980,\n",
              " 1985,\n",
              " 1990,\n",
              " 1995,\n",
              " 2000,\n",
              " 2005,\n",
              " 2010,\n",
              " 2015,\n",
              " 2020,\n",
              " 2025,\n",
              " 2030,\n",
              " 2035,\n",
              " 2040,\n",
              " 2045,\n",
              " 2050,\n",
              " 2055,\n",
              " 2060,\n",
              " 2065,\n",
              " 2070,\n",
              " 2075,\n",
              " 2080,\n",
              " 2085,\n",
              " 2090,\n",
              " 2095,\n",
              " 2100,\n",
              " 2105,\n",
              " 2110,\n",
              " 2115,\n",
              " 2120,\n",
              " 2125,\n",
              " 2130,\n",
              " 2135,\n",
              " 2140,\n",
              " 2145,\n",
              " 2150,\n",
              " 2155,\n",
              " 2160,\n",
              " 2165,\n",
              " 2170,\n",
              " 2175,\n",
              " 2180,\n",
              " 2185,\n",
              " 2190,\n",
              " 2195,\n",
              " 2200,\n",
              " 2205,\n",
              " 2210,\n",
              " 2215,\n",
              " 2220,\n",
              " 2225,\n",
              " 2230,\n",
              " 2235,\n",
              " 2240,\n",
              " 2245,\n",
              " 2250,\n",
              " 2255,\n",
              " 2260,\n",
              " 2265,\n",
              " 2270,\n",
              " 2275,\n",
              " 2280,\n",
              " 2285,\n",
              " 2290,\n",
              " 2295,\n",
              " 2300,\n",
              " 2305,\n",
              " 2310,\n",
              " 2315,\n",
              " 2320,\n",
              " 2325,\n",
              " 2330,\n",
              " 2335,\n",
              " 2340,\n",
              " 2345,\n",
              " 2350,\n",
              " 2355,\n",
              " 2360,\n",
              " 2365,\n",
              " 2370,\n",
              " 2375,\n",
              " 2380,\n",
              " 2385,\n",
              " 2390,\n",
              " 2395,\n",
              " 2400,\n",
              " 2405,\n",
              " 2410,\n",
              " 2415,\n",
              " 2420,\n",
              " 2425,\n",
              " 2430,\n",
              " 2435,\n",
              " 2440,\n",
              " 2445,\n",
              " 2450,\n",
              " 2455,\n",
              " 2460,\n",
              " 2465,\n",
              " 2470,\n",
              " 2475,\n",
              " 2480,\n",
              " 2485,\n",
              " 2490,\n",
              " 2495,\n",
              " 2500,\n",
              " 2505,\n",
              " 2510,\n",
              " 2515,\n",
              " 2520,\n",
              " 2525,\n",
              " 2530,\n",
              " 2535,\n",
              " 2540,\n",
              " 2545,\n",
              " 2550,\n",
              " 2555,\n",
              " 2560,\n",
              " 2565,\n",
              " 2570,\n",
              " 2575,\n",
              " 2580,\n",
              " 2585,\n",
              " 2590,\n",
              " 2595,\n",
              " 2600,\n",
              " 2605,\n",
              " 2610,\n",
              " 2615,\n",
              " 2620,\n",
              " 2625,\n",
              " 2630,\n",
              " 2635,\n",
              " 2640,\n",
              " 2645,\n",
              " 2650,\n",
              " 2655,\n",
              " 2660,\n",
              " 2665,\n",
              " 2670,\n",
              " 2675,\n",
              " 2680,\n",
              " 2685,\n",
              " 2690,\n",
              " 2695,\n",
              " 2700]"
            ]
          },
          "metadata": {
            "tags": []
          },
          "execution_count": 155
        }
      ]
    },
    {
      "cell_type": "markdown",
      "metadata": {
        "id": "X07e0BsLY5Aq"
      },
      "source": [
        "## 9\n",
        "Escreva uma função que imprima na tela todos os números de 0 a 6, com exceção de 3 e 6.\n",
        "- Dica: Use a palavra-chave \"continue\""
      ]
    },
    {
      "cell_type": "code",
      "metadata": {
        "id": "kmW40A8dY5A0",
        "outputId": "1686abeb-c9ed-4045-b182-1d7bdcf301fc",
        "colab": {
          "base_uri": "https://localhost:8080/"
        }
      },
      "source": [
        "l3 = [0, 1, 2, 3, 4, 5, 6]\n",
        "l3.remove(3)\n",
        "l3.remove(6)\n",
        "for num in l3:\n",
        "  print(num)"
      ],
      "execution_count": null,
      "outputs": [
        {
          "output_type": "stream",
          "text": [
            "0\n",
            "1\n",
            "2\n",
            "4\n",
            "5\n"
          ],
          "name": "stdout"
        }
      ]
    },
    {
      "cell_type": "markdown",
      "metadata": {
        "id": "OEvQxTyLY5A7"
      },
      "source": [
        "## 10\n",
        "Escreva uma função que cheque se uma letra é uma vogal ou uma consoante, retornando:\n",
        "- Verdadeiro se for vogal\n",
        "- Falso se for consoante"
      ]
    },
    {
      "cell_type": "code",
      "metadata": {
        "id": "MxnGCXZaY5A8",
        "outputId": "e9961a6e-52e0-447b-fa1e-f5416f8a33c4",
        "colab": {
          "base_uri": "https://localhost:8080/"
        }
      },
      "source": [
        "vogais = ['a', 'e', 'i', 'o', 'u']\n",
        "def verif(letra2):\n",
        "  for letra in vogais:\n",
        "    if letra == letra2:\n",
        "      print(\"verdadeiro\")\n",
        "      break\n",
        "    else:\n",
        "      print(\"falso\")\n",
        "verif('i')\n",
        "\n",
        "# não consigo fazer com um só resultado"
      ],
      "execution_count": null,
      "outputs": [
        {
          "output_type": "stream",
          "text": [
            "falso\n",
            "falso\n",
            "verdadeiro\n"
          ],
          "name": "stdout"
        }
      ]
    },
    {
      "cell_type": "code",
      "metadata": {
        "id": "__OH27mEkF3c",
        "outputId": "6e972406-87f5-4bcf-e89f-ffe822be6584",
        "colab": {
          "base_uri": "https://localhost:8080/"
        }
      },
      "source": [
        ""
      ],
      "execution_count": null,
      "outputs": [
        {
          "output_type": "stream",
          "text": [
            "falso\n"
          ],
          "name": "stdout"
        }
      ]
    },
    {
      "cell_type": "markdown",
      "metadata": {
        "id": "gOcRWYhdY5BC"
      },
      "source": [
        "## 11\n",
        "Escreva uma função que imprima o seguinte padrão na tela:\n",
        "\n",
        "```\n",
        "1\n",
        "22\n",
        "333\n",
        "4444\n",
        "55555\n",
        "666666\n",
        "7777777\n",
        "88888888\n",
        "999999999\n",
        "```"
      ]
    },
    {
      "cell_type": "code",
      "metadata": {
        "id": "fHKflyhxY5BF",
        "outputId": "99dafea1-93d6-4f73-d39d-e16e221ff55f",
        "colab": {
          "base_uri": "https://localhost:8080/",
          "height": 173
        }
      },
      "source": [
        "\n",
        "num_l = ['1', '2', '3', '4', '5', '6', '7', '8', '9']\n",
        "num_n = [1, 2, 3, 4, 5, 6, 7, 8, 9]\n",
        "for num in num_l:\n",
        "  for n in num_n:\n",
        "    print(num*n)\n",
        "    if num == str(n):\n",
        "     num_n.remove(n)\n",
        "    break"
      ],
      "execution_count": 13,
      "outputs": [
        {
          "output_type": "stream",
          "text": [
            "1\n",
            "22\n",
            "333\n",
            "4444\n",
            "55555\n",
            "666666\n",
            "7777777\n",
            "88888888\n",
            "999999999\n"
          ],
          "name": "stdout"
        }
      ]
    },
    {
      "cell_type": "markdown",
      "metadata": {
        "id": "sw-zySVmY5BR"
      },
      "source": [
        "## 12\n",
        "Para uma equação de segundo grau $ax^2 + bx + c$, o número de raízes reais é definido pelo valor de delta <nobr>($ \\Delta = b^2 -4ac $).</nobr>\n",
        "\n",
        "- Se $ \\Delta > 0 $ : Duas raízes\n",
        "- Se $ \\Delta = 0 $ : Uma raíz\n",
        "- Se $ \\Delta < 0 $ : Nenhuma raíz\n",
        "\n",
        "Assim sendo, escreva uma função que receba os coeficientes da equação de 2º grau (a, b e c) e, com base nesses coeficientes, te diga automaticamente quantas raízes essa equação possui."
      ]
    },
    {
      "cell_type": "code",
      "metadata": {
        "id": "91BXtFZaY5BS"
      },
      "source": [
        "def delta(a, b, c):\n",
        "    return (b*b)-4*(a*c)\n",
        "resultado = delta\n",
        "if resultado == (0):\n",
        "    print(\"uma raiz\") \n",
        "#ERRO\n",
        "\n",
        "\n",
        "delta(1, -10, 25)"
      ],
      "execution_count": null,
      "outputs": []
    },
    {
      "cell_type": "markdown",
      "metadata": {
        "id": "jGUKHGloY5BY"
      },
      "source": [
        "## 13 \n",
        "\n",
        "Crie uma função que receba os coeficientes de uma equação de 2º grau (a, b e c) e retorne o valor de sua(s) raíz(es) ou imprima a mensagem \"Sem raíz real\" caso não possua raíz.\n",
        "\n",
        "Lembre-se que a resolução das raízes é feita usando a **Fórmula de Bhaskara**:\n",
        "\n",
        "<p style=\"font-size:16pt; text-align:center\"> $ x = \\frac{-b \\pm\\sqrt{b^2 - 4ac}}{2a} $</p>"
      ]
    },
    {
      "cell_type": "code",
      "metadata": {
        "id": "kBYs-Wn8Y5Ba"
      },
      "source": [
        ""
      ],
      "execution_count": null,
      "outputs": []
    }
  ]
}